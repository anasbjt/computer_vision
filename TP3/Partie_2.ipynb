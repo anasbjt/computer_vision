{
 "cells": [
  {
   "cell_type": "markdown",
   "metadata": {},
   "source": [
    "# Partie 2"
   ]
  },
  {
   "cell_type": "code",
   "execution_count": 2,
   "metadata": {},
   "outputs": [],
   "source": [
    "import requests"
   ]
  },
  {
   "cell_type": "code",
   "execution_count": null,
   "metadata": {},
   "outputs": [
    {
     "name": "stderr",
     "output_type": "stream",
     "text": [
      "/Library/Frameworks/Python.framework/Versions/3.12/lib/python3.12/site-packages/tqdm/auto.py:21: TqdmWarning: IProgress not found. Please update jupyter and ipywidgets. See https://ipywidgets.readthedocs.io/en/stable/user_install.html\n",
      "  from .autonotebook import tqdm as notebook_tqdm\n",
      "2025-03-06 12:35:27.108104: I tensorflow/core/platform/cpu_feature_guard.cc:210] This TensorFlow binary is optimized to use available CPU instructions in performance-critical operations.\n",
      "To enable the following instructions: AVX2 AVX512F AVX512_VNNI FMA, in other operations, rebuild TensorFlow with the appropriate compiler flags.\n",
      "/Library/Frameworks/Python.framework/Versions/3.12/lib/python3.12/site-packages/threadpoolctl.py:1214: RuntimeWarning: \n",
      "Found Intel OpenMP ('libiomp') and LLVM OpenMP ('libomp') loaded at\n",
      "the same time. Both libraries are known to be incompatible and this\n",
      "can cause random crashes or deadlocks on Linux when loaded in the\n",
      "same Python program.\n",
      "Using threadpoolctl may cause crashes or deadlocks. For more\n",
      "information and possible workarounds, please see\n",
      "    https://github.com/joblib/threadpoolctl/blob/master/multiple_openmp.md\n",
      "\n",
      "  warnings.warn(msg, RuntimeWarning)\n"
     ]
    }
   ],
   "source": [
    "from transformers import DistilBertTokenizer, TFDistilBertForSequenceClassification\n",
    "from tensorflow.keras.optimizers import Adam\n",
    "from transformers import AdamWeightDecay\n",
    "import tensorflow as tf\n",
    "import requests\n",
    "import numpy as np\n",
    " \n",
    "url = \"https://storage.googleapis.com/tensorflow/tf-keras-datasets/imdb.npz\"\n",
    "response = requests.get(url)\n",
    " \n",
    "with open(\"imdb.npz\", \"wb\") as f:\n",
    "    f.write(response.content)\n",
    " \n",
    "with np.load(\"imdb.npz\", allow_pickle=True) as data:\n",
    "    x_train, y_train = data[\"x_train\"], data[\"y_train\"]\n",
    "    x_test, y_test = data[\"x_test\"], data[\"y_test\"]\n",
    " \n",
    " \n",
    "# Tokenisation avec DistilBERT\n",
    "tokenizer = DistilBertTokenizer.from_pretrained(\"distilbert-base-uncased\")\n",
    " \n",
    "# Encoder les données d'entraînement et de test\n",
    "x_train_enc = tokenizer([\" \".join(map(str, review)) for review in x_train], padding=True, truncation=True, return_tensors=\"tf\")\n",
    "x_test_enc = tokenizer([\" \".join(map(str, review)) for review in x_test], padding=True, truncation=True, return_tensors=\"tf\")\n",
    " \n",
    " \n",
    "# Charger le modèle DistilBERT pour la classification de séquences\n",
    "model = TFDistilBertForSequenceClassification.from_pretrained(\"distilbert-base-uncased\", num_labels=2)\n",
    " \n",
    " \n",
    "# Utiliser l'optimiseur AdamWeightDecay\n",
    "optimizer = AdamWeightDecay(learning_rate=5e-5)\n",
    " \n",
    "# Fonction de perte\n",
    "loss_fn = tf.keras.losses.SparseCategoricalCrossentropy(from_logits=True)\n",
    " \n",
    "# Compiler le modèle\n",
    "model.compile(optimizer=optimizer, loss=loss_fn, metrics=[\"accuracy\"])\n",
    " \n",
    "# Créer des datasets TensorFlow pour l'entraînement et la validation\n",
    "train_dataset = tf.data.Dataset.from_tensor_slices((dict(x_train_enc), y_train)).batch(32)\n",
    "test_dataset = tf.data.Dataset.from_tensor_slices((dict(x_test_enc), y_test)).batch(32)\n",
    " \n",
    "# Entraîner le modèle\n",
    "model.fit(train_dataset, epochs=3, validation_data=test_dataset)"
   ]
  },
  {
   "cell_type": "code",
   "execution_count": null,
   "metadata": {},
   "outputs": [],
   "source": []
  }
 ],
 "metadata": {
  "kernelspec": {
   "display_name": "Python 3",
   "language": "python",
   "name": "python3"
  },
  "language_info": {
   "codemirror_mode": {
    "name": "ipython",
    "version": 3
   },
   "file_extension": ".py",
   "mimetype": "text/x-python",
   "name": "python",
   "nbconvert_exporter": "python",
   "pygments_lexer": "ipython3",
   "version": "3.12.3"
  }
 },
 "nbformat": 4,
 "nbformat_minor": 2
}
